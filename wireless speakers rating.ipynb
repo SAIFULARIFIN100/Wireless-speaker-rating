{
  "nbformat": 4,
  "nbformat_minor": 0,
  "metadata": {
    "colab": {
      "name": "1649718620801_HW_EDA_Saiful_Arifin_(1).ipynb",
      "provenance": [],
      "collapsed_sections": []
    },
    "kernelspec": {
      "name": "python3",
      "display_name": "Python 3"
    },
    "language_info": {
      "name": "python"
    }
  },
  "cells": [
    {
      "cell_type": "markdown",
      "source": [
        "Import Libraries"
      ],
      "metadata": {
        "id": "vdRxYvPDNBTi"
      }
    },
    {
      "cell_type": "code",
      "execution_count": 51,
      "metadata": {
        "id": "JIB9heCpB0Y8"
      },
      "outputs": [],
      "source": [
        "import numpy as np \n",
        "import pandas as pd \n",
        "import matplotlib.pyplot as plt\n",
        "import seaborn as sns\n",
        "sns.set()\n"
      ]
    },
    {
      "cell_type": "markdown",
      "source": [
        "Reading Data"
      ],
      "metadata": {
        "id": "5jxOka1YNKMa"
      }
    },
    {
      "cell_type": "code",
      "source": [
        "df = pd.read_csv('wireless speakers rating.csv')"
      ],
      "metadata": {
        "id": "IiJPvQFwB596"
      },
      "execution_count": 52,
      "outputs": []
    },
    {
      "cell_type": "code",
      "source": [
        "df.shape"
      ],
      "metadata": {
        "colab": {
          "base_uri": "https://localhost:8080/"
        },
        "id": "YQcESU-bB7YR",
        "outputId": "a1374fdd-9a08-4b0b-e06f-9f768578cbcd"
      },
      "execution_count": 53,
      "outputs": [
        {
          "output_type": "execute_result",
          "data": {
            "text/plain": [
              "(45, 7)"
            ]
          },
          "metadata": {},
          "execution_count": 53
        }
      ]
    },
    {
      "cell_type": "code",
      "source": [
        "df.head()"
      ],
      "metadata": {
        "colab": {
          "base_uri": "https://localhost:8080/",
          "height": 206
        },
        "id": "k9GuMvglB9MJ",
        "outputId": "7b9bb521-9fad-423f-92cb-20cfd5e0f8e2"
      },
      "execution_count": 54,
      "outputs": [
        {
          "output_type": "execute_result",
          "data": {
            "text/plain": [
              "                              model  price    launch  overall  relaxing  \\\n",
              "0  Bowers & Wilkins Formation Wedge   $899  Jun 2019      160       158   \n",
              "1        Harman Kardon Citation 200   $349  Sep 2020      147       136   \n",
              "2                        Sonos Five   $499  Jun 2021      147       141   \n",
              "3         Bowers & Wilkins Zeppelin   $799  Oct 2021      146       148   \n",
              "4   Bang & Olufsen Beosound Balance  $2250  Mar 2020      145       135   \n",
              "\n",
              "   party  movie  \n",
              "0    155    134  \n",
              "1    150    119  \n",
              "2    148    123  \n",
              "3    137    117  \n",
              "4    141    110  "
            ],
            "text/html": [
              "\n",
              "  <div id=\"df-6049daa6-d0cb-4c17-a72f-20f652b6cfb3\">\n",
              "    <div class=\"colab-df-container\">\n",
              "      <div>\n",
              "<style scoped>\n",
              "    .dataframe tbody tr th:only-of-type {\n",
              "        vertical-align: middle;\n",
              "    }\n",
              "\n",
              "    .dataframe tbody tr th {\n",
              "        vertical-align: top;\n",
              "    }\n",
              "\n",
              "    .dataframe thead th {\n",
              "        text-align: right;\n",
              "    }\n",
              "</style>\n",
              "<table border=\"1\" class=\"dataframe\">\n",
              "  <thead>\n",
              "    <tr style=\"text-align: right;\">\n",
              "      <th></th>\n",
              "      <th>model</th>\n",
              "      <th>price</th>\n",
              "      <th>launch</th>\n",
              "      <th>overall</th>\n",
              "      <th>relaxing</th>\n",
              "      <th>party</th>\n",
              "      <th>movie</th>\n",
              "    </tr>\n",
              "  </thead>\n",
              "  <tbody>\n",
              "    <tr>\n",
              "      <th>0</th>\n",
              "      <td>Bowers &amp; Wilkins Formation Wedge</td>\n",
              "      <td>$899</td>\n",
              "      <td>Jun 2019</td>\n",
              "      <td>160</td>\n",
              "      <td>158</td>\n",
              "      <td>155</td>\n",
              "      <td>134</td>\n",
              "    </tr>\n",
              "    <tr>\n",
              "      <th>1</th>\n",
              "      <td>Harman Kardon Citation 200</td>\n",
              "      <td>$349</td>\n",
              "      <td>Sep 2020</td>\n",
              "      <td>147</td>\n",
              "      <td>136</td>\n",
              "      <td>150</td>\n",
              "      <td>119</td>\n",
              "    </tr>\n",
              "    <tr>\n",
              "      <th>2</th>\n",
              "      <td>Sonos Five</td>\n",
              "      <td>$499</td>\n",
              "      <td>Jun 2021</td>\n",
              "      <td>147</td>\n",
              "      <td>141</td>\n",
              "      <td>148</td>\n",
              "      <td>123</td>\n",
              "    </tr>\n",
              "    <tr>\n",
              "      <th>3</th>\n",
              "      <td>Bowers &amp; Wilkins Zeppelin</td>\n",
              "      <td>$799</td>\n",
              "      <td>Oct 2021</td>\n",
              "      <td>146</td>\n",
              "      <td>148</td>\n",
              "      <td>137</td>\n",
              "      <td>117</td>\n",
              "    </tr>\n",
              "    <tr>\n",
              "      <th>4</th>\n",
              "      <td>Bang &amp; Olufsen Beosound Balance</td>\n",
              "      <td>$2250</td>\n",
              "      <td>Mar 2020</td>\n",
              "      <td>145</td>\n",
              "      <td>135</td>\n",
              "      <td>141</td>\n",
              "      <td>110</td>\n",
              "    </tr>\n",
              "  </tbody>\n",
              "</table>\n",
              "</div>\n",
              "      <button class=\"colab-df-convert\" onclick=\"convertToInteractive('df-6049daa6-d0cb-4c17-a72f-20f652b6cfb3')\"\n",
              "              title=\"Convert this dataframe to an interactive table.\"\n",
              "              style=\"display:none;\">\n",
              "        \n",
              "  <svg xmlns=\"http://www.w3.org/2000/svg\" height=\"24px\"viewBox=\"0 0 24 24\"\n",
              "       width=\"24px\">\n",
              "    <path d=\"M0 0h24v24H0V0z\" fill=\"none\"/>\n",
              "    <path d=\"M18.56 5.44l.94 2.06.94-2.06 2.06-.94-2.06-.94-.94-2.06-.94 2.06-2.06.94zm-11 1L8.5 8.5l.94-2.06 2.06-.94-2.06-.94L8.5 2.5l-.94 2.06-2.06.94zm10 10l.94 2.06.94-2.06 2.06-.94-2.06-.94-.94-2.06-.94 2.06-2.06.94z\"/><path d=\"M17.41 7.96l-1.37-1.37c-.4-.4-.92-.59-1.43-.59-.52 0-1.04.2-1.43.59L10.3 9.45l-7.72 7.72c-.78.78-.78 2.05 0 2.83L4 21.41c.39.39.9.59 1.41.59.51 0 1.02-.2 1.41-.59l7.78-7.78 2.81-2.81c.8-.78.8-2.07 0-2.86zM5.41 20L4 18.59l7.72-7.72 1.47 1.35L5.41 20z\"/>\n",
              "  </svg>\n",
              "      </button>\n",
              "      \n",
              "  <style>\n",
              "    .colab-df-container {\n",
              "      display:flex;\n",
              "      flex-wrap:wrap;\n",
              "      gap: 12px;\n",
              "    }\n",
              "\n",
              "    .colab-df-convert {\n",
              "      background-color: #E8F0FE;\n",
              "      border: none;\n",
              "      border-radius: 50%;\n",
              "      cursor: pointer;\n",
              "      display: none;\n",
              "      fill: #1967D2;\n",
              "      height: 32px;\n",
              "      padding: 0 0 0 0;\n",
              "      width: 32px;\n",
              "    }\n",
              "\n",
              "    .colab-df-convert:hover {\n",
              "      background-color: #E2EBFA;\n",
              "      box-shadow: 0px 1px 2px rgba(60, 64, 67, 0.3), 0px 1px 3px 1px rgba(60, 64, 67, 0.15);\n",
              "      fill: #174EA6;\n",
              "    }\n",
              "\n",
              "    [theme=dark] .colab-df-convert {\n",
              "      background-color: #3B4455;\n",
              "      fill: #D2E3FC;\n",
              "    }\n",
              "\n",
              "    [theme=dark] .colab-df-convert:hover {\n",
              "      background-color: #434B5C;\n",
              "      box-shadow: 0px 1px 3px 1px rgba(0, 0, 0, 0.15);\n",
              "      filter: drop-shadow(0px 1px 2px rgba(0, 0, 0, 0.3));\n",
              "      fill: #FFFFFF;\n",
              "    }\n",
              "  </style>\n",
              "\n",
              "      <script>\n",
              "        const buttonEl =\n",
              "          document.querySelector('#df-6049daa6-d0cb-4c17-a72f-20f652b6cfb3 button.colab-df-convert');\n",
              "        buttonEl.style.display =\n",
              "          google.colab.kernel.accessAllowed ? 'block' : 'none';\n",
              "\n",
              "        async function convertToInteractive(key) {\n",
              "          const element = document.querySelector('#df-6049daa6-d0cb-4c17-a72f-20f652b6cfb3');\n",
              "          const dataTable =\n",
              "            await google.colab.kernel.invokeFunction('convertToInteractive',\n",
              "                                                     [key], {});\n",
              "          if (!dataTable) return;\n",
              "\n",
              "          const docLinkHtml = 'Like what you see? Visit the ' +\n",
              "            '<a target=\"_blank\" href=https://colab.research.google.com/notebooks/data_table.ipynb>data table notebook</a>'\n",
              "            + ' to learn more about interactive tables.';\n",
              "          element.innerHTML = '';\n",
              "          dataTable['output_type'] = 'display_data';\n",
              "          await google.colab.output.renderOutput(dataTable, element);\n",
              "          const docLink = document.createElement('div');\n",
              "          docLink.innerHTML = docLinkHtml;\n",
              "          element.appendChild(docLink);\n",
              "        }\n",
              "      </script>\n",
              "    </div>\n",
              "  </div>\n",
              "  "
            ]
          },
          "metadata": {},
          "execution_count": 54
        }
      ]
    },
    {
      "cell_type": "code",
      "source": [
        "df.info()"
      ],
      "metadata": {
        "colab": {
          "base_uri": "https://localhost:8080/"
        },
        "id": "Ow5Yh4s9QdvB",
        "outputId": "abd2154f-5c8d-41b0-c3aa-075a800a047d"
      },
      "execution_count": 55,
      "outputs": [
        {
          "output_type": "stream",
          "name": "stdout",
          "text": [
            "<class 'pandas.core.frame.DataFrame'>\n",
            "RangeIndex: 45 entries, 0 to 44\n",
            "Data columns (total 7 columns):\n",
            " #   Column    Non-Null Count  Dtype \n",
            "---  ------    --------------  ----- \n",
            " 0   model     45 non-null     object\n",
            " 1   price     45 non-null     object\n",
            " 2   launch    45 non-null     object\n",
            " 3   overall   45 non-null     int64 \n",
            " 4   relaxing  45 non-null     int64 \n",
            " 5   party     45 non-null     int64 \n",
            " 6   movie     45 non-null     int64 \n",
            "dtypes: int64(4), object(3)\n",
            "memory usage: 2.6+ KB\n"
          ]
        }
      ]
    },
    {
      "cell_type": "code",
      "source": [
        "df.isnull().sum()"
      ],
      "metadata": {
        "colab": {
          "base_uri": "https://localhost:8080/"
        },
        "id": "CLFgtyOCQiWg",
        "outputId": "3f65de7f-1dbf-4fd6-9fac-eba6245afe70"
      },
      "execution_count": 56,
      "outputs": [
        {
          "output_type": "execute_result",
          "data": {
            "text/plain": [
              "model       0\n",
              "price       0\n",
              "launch      0\n",
              "overall     0\n",
              "relaxing    0\n",
              "party       0\n",
              "movie       0\n",
              "dtype: int64"
            ]
          },
          "metadata": {},
          "execution_count": 56
        }
      ]
    },
    {
      "cell_type": "code",
      "source": [
        ""
      ],
      "metadata": {
        "colab": {
          "base_uri": "https://localhost:8080/"
        },
        "id": "HCteccXQvl8n",
        "outputId": "ea3124c9-c008-46ae-9aeb-27a027ff0d23"
      },
      "execution_count": 57,
      "outputs": [
        {
          "output_type": "execute_result",
          "data": {
            "text/plain": [
              "May 2020    3\n",
              "Jul 2020    3\n",
              "Apr 2021    3\n",
              "Jun 2019    2\n",
              "Nov 2021    2\n",
              "Feb 2018    2\n",
              "Sep 2020    2\n",
              "Nov 2020    2\n",
              "Jan 2020    2\n",
              "Oct 2021    2\n",
              "Oct 2017    2\n",
              "Jun 2021    2\n",
              "Mar 2019    2\n",
              "Apr 2019    1\n",
              "May 2018    1\n",
              "Dec 2021    1\n",
              "Jun 2020    1\n",
              "Aug 2016    1\n",
              "Jan 2021    1\n",
              "Oct 2020    1\n",
              "Oct 2018    1\n",
              "Feb 2022    1\n",
              "Sep 2019    1\n",
              "Mar 2020    1\n",
              "Aug 2018    1\n",
              "Sep 2021    1\n",
              "Apr 2018    1\n",
              "Oct 2019    1\n",
              "Jul 2017    1\n",
              "Name: launch, dtype: int64"
            ]
          },
          "metadata": {},
          "execution_count": 57
        }
      ]
    },
    {
      "cell_type": "code",
      "source": [
        "df[\"launch_month\"] = df[\"launch\"].apply(lambda x: x.split(\" \")[0])\n",
        "df[\"launch_year\"] = df[\"launch\"].apply(lambda x : x.split(\" \")[-1])"
      ],
      "metadata": {
        "id": "HnH2nRzsB9WW"
      },
      "execution_count": 58,
      "outputs": []
    },
    {
      "cell_type": "code",
      "source": [
        "df[\"price in $\"]= df[\"price\"].apply(lambda x : int(x[1:]))"
      ],
      "metadata": {
        "id": "PgyehC01TYse"
      },
      "execution_count": 59,
      "outputs": []
    },
    {
      "cell_type": "code",
      "source": [
        "cheapest_price = df[\"price in $\"].min()\n",
        "costiest_price = df[\"price in $\"].max()\n",
        "\n",
        "print(f\"the cheapest model available is {df[df['price in $']==cheapest_price]['model'].values[0]} and price is {cheapest_price}\")\n",
        "print(f'the costiest model available is {df[df[\"price in $\"] == costiest_price][\"model\"].values[0]} and price is {costiest_price}')"
      ],
      "metadata": {
        "colab": {
          "base_uri": "https://localhost:8080/"
        },
        "id": "wQb5RmD5TcZ2",
        "outputId": "3de7d896-42eb-4b4a-a782-385a88e5dc01"
      },
      "execution_count": 60,
      "outputs": [
        {
          "output_type": "stream",
          "name": "stdout",
          "text": [
            "the cheapest model available is Baidu Xiaodu Smart Speaker Ultimate Edition and price is 20\n",
            "the costiest model available is Bang & Olufsen Beosound Balance and price is 2250\n"
          ]
        }
      ]
    },
    {
      "cell_type": "code",
      "source": [
        "df.drop([\"price\",\"launch\"],inplace=True,axis=1)"
      ],
      "metadata": {
        "id": "HU8buJ6ETxnH"
      },
      "execution_count": 61,
      "outputs": []
    },
    {
      "cell_type": "code",
      "source": [
        "min_overall = df[\"overall\"].min()\n",
        "max_overall = df[\"overall\"].max()\n",
        "print(f\"mimimum overall rating is {min_overall}, maximum overall rating is {max_overall}\")"
      ],
      "metadata": {
        "colab": {
          "base_uri": "https://localhost:8080/"
        },
        "id": "dZih0cXOT5t9",
        "outputId": "e1aaf34a-2553-4f03-fbaa-6f5501ca789c"
      },
      "execution_count": 62,
      "outputs": [
        {
          "output_type": "stream",
          "name": "stdout",
          "text": [
            "mimimum overall rating is 48, maximum overall rating is 160\n"
          ]
        }
      ]
    },
    {
      "cell_type": "markdown",
      "source": [
        "INITIAL DATA FIXING"
      ],
      "metadata": {
        "id": "o39XtnWsL_Sz"
      }
    },
    {
      "cell_type": "code",
      "source": [
        "df.describe()"
      ],
      "metadata": {
        "colab": {
          "base_uri": "https://localhost:8080/",
          "height": 300
        },
        "id": "WKm_ldmrCQSy",
        "outputId": "79ee663a-1873-4402-d63d-f118ea032227"
      },
      "execution_count": 63,
      "outputs": [
        {
          "output_type": "execute_result",
          "data": {
            "text/plain": [
              "          overall    relaxing       party       movie   price in $\n",
              "count   45.000000   45.000000   45.000000   45.000000    45.000000\n",
              "mean   122.222222  120.444444  113.888889   96.777778   458.977778\n",
              "std     19.938415   17.201421   23.850121   21.030161   494.119763\n",
              "min     48.000000   64.000000   42.000000   23.000000    20.000000\n",
              "25%    109.000000  108.000000   97.000000   88.000000   169.000000\n",
              "50%    124.000000  120.000000  112.000000   99.000000   329.000000\n",
              "75%    136.000000  134.000000  135.000000  112.000000   499.000000\n",
              "max    160.000000  158.000000  155.000000  134.000000  2250.000000"
            ],
            "text/html": [
              "\n",
              "  <div id=\"df-3f04f49f-3f03-4877-8c7d-d338608d26c2\">\n",
              "    <div class=\"colab-df-container\">\n",
              "      <div>\n",
              "<style scoped>\n",
              "    .dataframe tbody tr th:only-of-type {\n",
              "        vertical-align: middle;\n",
              "    }\n",
              "\n",
              "    .dataframe tbody tr th {\n",
              "        vertical-align: top;\n",
              "    }\n",
              "\n",
              "    .dataframe thead th {\n",
              "        text-align: right;\n",
              "    }\n",
              "</style>\n",
              "<table border=\"1\" class=\"dataframe\">\n",
              "  <thead>\n",
              "    <tr style=\"text-align: right;\">\n",
              "      <th></th>\n",
              "      <th>overall</th>\n",
              "      <th>relaxing</th>\n",
              "      <th>party</th>\n",
              "      <th>movie</th>\n",
              "      <th>price in $</th>\n",
              "    </tr>\n",
              "  </thead>\n",
              "  <tbody>\n",
              "    <tr>\n",
              "      <th>count</th>\n",
              "      <td>45.000000</td>\n",
              "      <td>45.000000</td>\n",
              "      <td>45.000000</td>\n",
              "      <td>45.000000</td>\n",
              "      <td>45.000000</td>\n",
              "    </tr>\n",
              "    <tr>\n",
              "      <th>mean</th>\n",
              "      <td>122.222222</td>\n",
              "      <td>120.444444</td>\n",
              "      <td>113.888889</td>\n",
              "      <td>96.777778</td>\n",
              "      <td>458.977778</td>\n",
              "    </tr>\n",
              "    <tr>\n",
              "      <th>std</th>\n",
              "      <td>19.938415</td>\n",
              "      <td>17.201421</td>\n",
              "      <td>23.850121</td>\n",
              "      <td>21.030161</td>\n",
              "      <td>494.119763</td>\n",
              "    </tr>\n",
              "    <tr>\n",
              "      <th>min</th>\n",
              "      <td>48.000000</td>\n",
              "      <td>64.000000</td>\n",
              "      <td>42.000000</td>\n",
              "      <td>23.000000</td>\n",
              "      <td>20.000000</td>\n",
              "    </tr>\n",
              "    <tr>\n",
              "      <th>25%</th>\n",
              "      <td>109.000000</td>\n",
              "      <td>108.000000</td>\n",
              "      <td>97.000000</td>\n",
              "      <td>88.000000</td>\n",
              "      <td>169.000000</td>\n",
              "    </tr>\n",
              "    <tr>\n",
              "      <th>50%</th>\n",
              "      <td>124.000000</td>\n",
              "      <td>120.000000</td>\n",
              "      <td>112.000000</td>\n",
              "      <td>99.000000</td>\n",
              "      <td>329.000000</td>\n",
              "    </tr>\n",
              "    <tr>\n",
              "      <th>75%</th>\n",
              "      <td>136.000000</td>\n",
              "      <td>134.000000</td>\n",
              "      <td>135.000000</td>\n",
              "      <td>112.000000</td>\n",
              "      <td>499.000000</td>\n",
              "    </tr>\n",
              "    <tr>\n",
              "      <th>max</th>\n",
              "      <td>160.000000</td>\n",
              "      <td>158.000000</td>\n",
              "      <td>155.000000</td>\n",
              "      <td>134.000000</td>\n",
              "      <td>2250.000000</td>\n",
              "    </tr>\n",
              "  </tbody>\n",
              "</table>\n",
              "</div>\n",
              "      <button class=\"colab-df-convert\" onclick=\"convertToInteractive('df-3f04f49f-3f03-4877-8c7d-d338608d26c2')\"\n",
              "              title=\"Convert this dataframe to an interactive table.\"\n",
              "              style=\"display:none;\">\n",
              "        \n",
              "  <svg xmlns=\"http://www.w3.org/2000/svg\" height=\"24px\"viewBox=\"0 0 24 24\"\n",
              "       width=\"24px\">\n",
              "    <path d=\"M0 0h24v24H0V0z\" fill=\"none\"/>\n",
              "    <path d=\"M18.56 5.44l.94 2.06.94-2.06 2.06-.94-2.06-.94-.94-2.06-.94 2.06-2.06.94zm-11 1L8.5 8.5l.94-2.06 2.06-.94-2.06-.94L8.5 2.5l-.94 2.06-2.06.94zm10 10l.94 2.06.94-2.06 2.06-.94-2.06-.94-.94-2.06-.94 2.06-2.06.94z\"/><path d=\"M17.41 7.96l-1.37-1.37c-.4-.4-.92-.59-1.43-.59-.52 0-1.04.2-1.43.59L10.3 9.45l-7.72 7.72c-.78.78-.78 2.05 0 2.83L4 21.41c.39.39.9.59 1.41.59.51 0 1.02-.2 1.41-.59l7.78-7.78 2.81-2.81c.8-.78.8-2.07 0-2.86zM5.41 20L4 18.59l7.72-7.72 1.47 1.35L5.41 20z\"/>\n",
              "  </svg>\n",
              "      </button>\n",
              "      \n",
              "  <style>\n",
              "    .colab-df-container {\n",
              "      display:flex;\n",
              "      flex-wrap:wrap;\n",
              "      gap: 12px;\n",
              "    }\n",
              "\n",
              "    .colab-df-convert {\n",
              "      background-color: #E8F0FE;\n",
              "      border: none;\n",
              "      border-radius: 50%;\n",
              "      cursor: pointer;\n",
              "      display: none;\n",
              "      fill: #1967D2;\n",
              "      height: 32px;\n",
              "      padding: 0 0 0 0;\n",
              "      width: 32px;\n",
              "    }\n",
              "\n",
              "    .colab-df-convert:hover {\n",
              "      background-color: #E2EBFA;\n",
              "      box-shadow: 0px 1px 2px rgba(60, 64, 67, 0.3), 0px 1px 3px 1px rgba(60, 64, 67, 0.15);\n",
              "      fill: #174EA6;\n",
              "    }\n",
              "\n",
              "    [theme=dark] .colab-df-convert {\n",
              "      background-color: #3B4455;\n",
              "      fill: #D2E3FC;\n",
              "    }\n",
              "\n",
              "    [theme=dark] .colab-df-convert:hover {\n",
              "      background-color: #434B5C;\n",
              "      box-shadow: 0px 1px 3px 1px rgba(0, 0, 0, 0.15);\n",
              "      filter: drop-shadow(0px 1px 2px rgba(0, 0, 0, 0.3));\n",
              "      fill: #FFFFFF;\n",
              "    }\n",
              "  </style>\n",
              "\n",
              "      <script>\n",
              "        const buttonEl =\n",
              "          document.querySelector('#df-3f04f49f-3f03-4877-8c7d-d338608d26c2 button.colab-df-convert');\n",
              "        buttonEl.style.display =\n",
              "          google.colab.kernel.accessAllowed ? 'block' : 'none';\n",
              "\n",
              "        async function convertToInteractive(key) {\n",
              "          const element = document.querySelector('#df-3f04f49f-3f03-4877-8c7d-d338608d26c2');\n",
              "          const dataTable =\n",
              "            await google.colab.kernel.invokeFunction('convertToInteractive',\n",
              "                                                     [key], {});\n",
              "          if (!dataTable) return;\n",
              "\n",
              "          const docLinkHtml = 'Like what you see? Visit the ' +\n",
              "            '<a target=\"_blank\" href=https://colab.research.google.com/notebooks/data_table.ipynb>data table notebook</a>'\n",
              "            + ' to learn more about interactive tables.';\n",
              "          element.innerHTML = '';\n",
              "          dataTable['output_type'] = 'display_data';\n",
              "          await google.colab.output.renderOutput(dataTable, element);\n",
              "          const docLink = document.createElement('div');\n",
              "          docLink.innerHTML = docLinkHtml;\n",
              "          element.appendChild(docLink);\n",
              "        }\n",
              "      </script>\n",
              "    </div>\n",
              "  </div>\n",
              "  "
            ]
          },
          "metadata": {},
          "execution_count": 63
        }
      ]
    },
    {
      "cell_type": "code",
      "source": [
        "df.head()"
      ],
      "metadata": {
        "colab": {
          "base_uri": "https://localhost:8080/",
          "height": 206
        },
        "id": "UQMkRAr1CU0x",
        "outputId": "9e5b1bb5-8b7f-4702-acd8-3eb0159bbdd3"
      },
      "execution_count": 64,
      "outputs": [
        {
          "output_type": "execute_result",
          "data": {
            "text/plain": [
              "                              model  overall  relaxing  party  movie  \\\n",
              "0  Bowers & Wilkins Formation Wedge      160       158    155    134   \n",
              "1        Harman Kardon Citation 200      147       136    150    119   \n",
              "2                        Sonos Five      147       141    148    123   \n",
              "3         Bowers & Wilkins Zeppelin      146       148    137    117   \n",
              "4   Bang & Olufsen Beosound Balance      145       135    141    110   \n",
              "\n",
              "  launch_month launch_year  price in $  \n",
              "0          Jun        2019         899  \n",
              "1          Sep        2020         349  \n",
              "2          Jun        2021         499  \n",
              "3          Oct        2021         799  \n",
              "4          Mar        2020        2250  "
            ],
            "text/html": [
              "\n",
              "  <div id=\"df-58a2f840-8576-44ea-a5d1-f8987eff4dda\">\n",
              "    <div class=\"colab-df-container\">\n",
              "      <div>\n",
              "<style scoped>\n",
              "    .dataframe tbody tr th:only-of-type {\n",
              "        vertical-align: middle;\n",
              "    }\n",
              "\n",
              "    .dataframe tbody tr th {\n",
              "        vertical-align: top;\n",
              "    }\n",
              "\n",
              "    .dataframe thead th {\n",
              "        text-align: right;\n",
              "    }\n",
              "</style>\n",
              "<table border=\"1\" class=\"dataframe\">\n",
              "  <thead>\n",
              "    <tr style=\"text-align: right;\">\n",
              "      <th></th>\n",
              "      <th>model</th>\n",
              "      <th>overall</th>\n",
              "      <th>relaxing</th>\n",
              "      <th>party</th>\n",
              "      <th>movie</th>\n",
              "      <th>launch_month</th>\n",
              "      <th>launch_year</th>\n",
              "      <th>price in $</th>\n",
              "    </tr>\n",
              "  </thead>\n",
              "  <tbody>\n",
              "    <tr>\n",
              "      <th>0</th>\n",
              "      <td>Bowers &amp; Wilkins Formation Wedge</td>\n",
              "      <td>160</td>\n",
              "      <td>158</td>\n",
              "      <td>155</td>\n",
              "      <td>134</td>\n",
              "      <td>Jun</td>\n",
              "      <td>2019</td>\n",
              "      <td>899</td>\n",
              "    </tr>\n",
              "    <tr>\n",
              "      <th>1</th>\n",
              "      <td>Harman Kardon Citation 200</td>\n",
              "      <td>147</td>\n",
              "      <td>136</td>\n",
              "      <td>150</td>\n",
              "      <td>119</td>\n",
              "      <td>Sep</td>\n",
              "      <td>2020</td>\n",
              "      <td>349</td>\n",
              "    </tr>\n",
              "    <tr>\n",
              "      <th>2</th>\n",
              "      <td>Sonos Five</td>\n",
              "      <td>147</td>\n",
              "      <td>141</td>\n",
              "      <td>148</td>\n",
              "      <td>123</td>\n",
              "      <td>Jun</td>\n",
              "      <td>2021</td>\n",
              "      <td>499</td>\n",
              "    </tr>\n",
              "    <tr>\n",
              "      <th>3</th>\n",
              "      <td>Bowers &amp; Wilkins Zeppelin</td>\n",
              "      <td>146</td>\n",
              "      <td>148</td>\n",
              "      <td>137</td>\n",
              "      <td>117</td>\n",
              "      <td>Oct</td>\n",
              "      <td>2021</td>\n",
              "      <td>799</td>\n",
              "    </tr>\n",
              "    <tr>\n",
              "      <th>4</th>\n",
              "      <td>Bang &amp; Olufsen Beosound Balance</td>\n",
              "      <td>145</td>\n",
              "      <td>135</td>\n",
              "      <td>141</td>\n",
              "      <td>110</td>\n",
              "      <td>Mar</td>\n",
              "      <td>2020</td>\n",
              "      <td>2250</td>\n",
              "    </tr>\n",
              "  </tbody>\n",
              "</table>\n",
              "</div>\n",
              "      <button class=\"colab-df-convert\" onclick=\"convertToInteractive('df-58a2f840-8576-44ea-a5d1-f8987eff4dda')\"\n",
              "              title=\"Convert this dataframe to an interactive table.\"\n",
              "              style=\"display:none;\">\n",
              "        \n",
              "  <svg xmlns=\"http://www.w3.org/2000/svg\" height=\"24px\"viewBox=\"0 0 24 24\"\n",
              "       width=\"24px\">\n",
              "    <path d=\"M0 0h24v24H0V0z\" fill=\"none\"/>\n",
              "    <path d=\"M18.56 5.44l.94 2.06.94-2.06 2.06-.94-2.06-.94-.94-2.06-.94 2.06-2.06.94zm-11 1L8.5 8.5l.94-2.06 2.06-.94-2.06-.94L8.5 2.5l-.94 2.06-2.06.94zm10 10l.94 2.06.94-2.06 2.06-.94-2.06-.94-.94-2.06-.94 2.06-2.06.94z\"/><path d=\"M17.41 7.96l-1.37-1.37c-.4-.4-.92-.59-1.43-.59-.52 0-1.04.2-1.43.59L10.3 9.45l-7.72 7.72c-.78.78-.78 2.05 0 2.83L4 21.41c.39.39.9.59 1.41.59.51 0 1.02-.2 1.41-.59l7.78-7.78 2.81-2.81c.8-.78.8-2.07 0-2.86zM5.41 20L4 18.59l7.72-7.72 1.47 1.35L5.41 20z\"/>\n",
              "  </svg>\n",
              "      </button>\n",
              "      \n",
              "  <style>\n",
              "    .colab-df-container {\n",
              "      display:flex;\n",
              "      flex-wrap:wrap;\n",
              "      gap: 12px;\n",
              "    }\n",
              "\n",
              "    .colab-df-convert {\n",
              "      background-color: #E8F0FE;\n",
              "      border: none;\n",
              "      border-radius: 50%;\n",
              "      cursor: pointer;\n",
              "      display: none;\n",
              "      fill: #1967D2;\n",
              "      height: 32px;\n",
              "      padding: 0 0 0 0;\n",
              "      width: 32px;\n",
              "    }\n",
              "\n",
              "    .colab-df-convert:hover {\n",
              "      background-color: #E2EBFA;\n",
              "      box-shadow: 0px 1px 2px rgba(60, 64, 67, 0.3), 0px 1px 3px 1px rgba(60, 64, 67, 0.15);\n",
              "      fill: #174EA6;\n",
              "    }\n",
              "\n",
              "    [theme=dark] .colab-df-convert {\n",
              "      background-color: #3B4455;\n",
              "      fill: #D2E3FC;\n",
              "    }\n",
              "\n",
              "    [theme=dark] .colab-df-convert:hover {\n",
              "      background-color: #434B5C;\n",
              "      box-shadow: 0px 1px 3px 1px rgba(0, 0, 0, 0.15);\n",
              "      filter: drop-shadow(0px 1px 2px rgba(0, 0, 0, 0.3));\n",
              "      fill: #FFFFFF;\n",
              "    }\n",
              "  </style>\n",
              "\n",
              "      <script>\n",
              "        const buttonEl =\n",
              "          document.querySelector('#df-58a2f840-8576-44ea-a5d1-f8987eff4dda button.colab-df-convert');\n",
              "        buttonEl.style.display =\n",
              "          google.colab.kernel.accessAllowed ? 'block' : 'none';\n",
              "\n",
              "        async function convertToInteractive(key) {\n",
              "          const element = document.querySelector('#df-58a2f840-8576-44ea-a5d1-f8987eff4dda');\n",
              "          const dataTable =\n",
              "            await google.colab.kernel.invokeFunction('convertToInteractive',\n",
              "                                                     [key], {});\n",
              "          if (!dataTable) return;\n",
              "\n",
              "          const docLinkHtml = 'Like what you see? Visit the ' +\n",
              "            '<a target=\"_blank\" href=https://colab.research.google.com/notebooks/data_table.ipynb>data table notebook</a>'\n",
              "            + ' to learn more about interactive tables.';\n",
              "          element.innerHTML = '';\n",
              "          dataTable['output_type'] = 'display_data';\n",
              "          await google.colab.output.renderOutput(dataTable, element);\n",
              "          const docLink = document.createElement('div');\n",
              "          docLink.innerHTML = docLinkHtml;\n",
              "          element.appendChild(docLink);\n",
              "        }\n",
              "      </script>\n",
              "    </div>\n",
              "  </div>\n",
              "  "
            ]
          },
          "metadata": {},
          "execution_count": 64
        }
      ]
    },
    {
      "cell_type": "code",
      "source": [
        "#how many speakers has been released by month\n",
        "data.launch_month.value_counts()"
      ],
      "metadata": {
        "id": "Ts3jAC2IW6k9",
        "colab": {
          "base_uri": "https://localhost:8080/"
        },
        "outputId": "eca34d79-eda8-404a-f5e5-743d641d8abb"
      },
      "execution_count": 90,
      "outputs": [
        {
          "output_type": "execute_result",
          "data": {
            "text/plain": [
              "launch_year  launch_month\n",
              "2016         Aug             1\n",
              "2017         Oct             2\n",
              "             Jul             1\n",
              "2018         Feb             2\n",
              "             Apr             1\n",
              "             Aug             1\n",
              "             May             1\n",
              "             Oct             1\n",
              "2019         Jun             2\n",
              "             Mar             2\n",
              "             Apr             1\n",
              "             Oct             1\n",
              "             Sep             1\n",
              "2020         Jul             3\n",
              "             May             3\n",
              "             Jan             2\n",
              "             Nov             2\n",
              "             Sep             2\n",
              "             Jun             1\n",
              "             Mar             1\n",
              "             Oct             1\n",
              "2021         Apr             3\n",
              "             Jun             2\n",
              "             Nov             2\n",
              "             Oct             2\n",
              "             Dec             1\n",
              "             Jan             1\n",
              "             Sep             1\n",
              "2022         Feb             1\n",
              "Name: launch_month, dtype: int64"
            ]
          },
          "metadata": {},
          "execution_count": 90
        }
      ]
    },
    {
      "cell_type": "code",
      "source": [
        "data = df.groupby(\"launch_year\")\n",
        "df.head()"
      ],
      "metadata": {
        "colab": {
          "base_uri": "https://localhost:8080/",
          "height": 206
        },
        "id": "vDzqr2UOW6h-",
        "outputId": "cc0b3639-ea1b-44a0-f528-7a26676c6ba6"
      },
      "execution_count": 65,
      "outputs": [
        {
          "output_type": "execute_result",
          "data": {
            "text/plain": [
              "                              model  overall  relaxing  party  movie  \\\n",
              "0  Bowers & Wilkins Formation Wedge      160       158    155    134   \n",
              "1        Harman Kardon Citation 200      147       136    150    119   \n",
              "2                        Sonos Five      147       141    148    123   \n",
              "3         Bowers & Wilkins Zeppelin      146       148    137    117   \n",
              "4   Bang & Olufsen Beosound Balance      145       135    141    110   \n",
              "\n",
              "  launch_month launch_year  price in $  \n",
              "0          Jun        2019         899  \n",
              "1          Sep        2020         349  \n",
              "2          Jun        2021         499  \n",
              "3          Oct        2021         799  \n",
              "4          Mar        2020        2250  "
            ],
            "text/html": [
              "\n",
              "  <div id=\"df-e08756eb-ef86-40e5-8d40-9fc2adb953bd\">\n",
              "    <div class=\"colab-df-container\">\n",
              "      <div>\n",
              "<style scoped>\n",
              "    .dataframe tbody tr th:only-of-type {\n",
              "        vertical-align: middle;\n",
              "    }\n",
              "\n",
              "    .dataframe tbody tr th {\n",
              "        vertical-align: top;\n",
              "    }\n",
              "\n",
              "    .dataframe thead th {\n",
              "        text-align: right;\n",
              "    }\n",
              "</style>\n",
              "<table border=\"1\" class=\"dataframe\">\n",
              "  <thead>\n",
              "    <tr style=\"text-align: right;\">\n",
              "      <th></th>\n",
              "      <th>model</th>\n",
              "      <th>overall</th>\n",
              "      <th>relaxing</th>\n",
              "      <th>party</th>\n",
              "      <th>movie</th>\n",
              "      <th>launch_month</th>\n",
              "      <th>launch_year</th>\n",
              "      <th>price in $</th>\n",
              "    </tr>\n",
              "  </thead>\n",
              "  <tbody>\n",
              "    <tr>\n",
              "      <th>0</th>\n",
              "      <td>Bowers &amp; Wilkins Formation Wedge</td>\n",
              "      <td>160</td>\n",
              "      <td>158</td>\n",
              "      <td>155</td>\n",
              "      <td>134</td>\n",
              "      <td>Jun</td>\n",
              "      <td>2019</td>\n",
              "      <td>899</td>\n",
              "    </tr>\n",
              "    <tr>\n",
              "      <th>1</th>\n",
              "      <td>Harman Kardon Citation 200</td>\n",
              "      <td>147</td>\n",
              "      <td>136</td>\n",
              "      <td>150</td>\n",
              "      <td>119</td>\n",
              "      <td>Sep</td>\n",
              "      <td>2020</td>\n",
              "      <td>349</td>\n",
              "    </tr>\n",
              "    <tr>\n",
              "      <th>2</th>\n",
              "      <td>Sonos Five</td>\n",
              "      <td>147</td>\n",
              "      <td>141</td>\n",
              "      <td>148</td>\n",
              "      <td>123</td>\n",
              "      <td>Jun</td>\n",
              "      <td>2021</td>\n",
              "      <td>499</td>\n",
              "    </tr>\n",
              "    <tr>\n",
              "      <th>3</th>\n",
              "      <td>Bowers &amp; Wilkins Zeppelin</td>\n",
              "      <td>146</td>\n",
              "      <td>148</td>\n",
              "      <td>137</td>\n",
              "      <td>117</td>\n",
              "      <td>Oct</td>\n",
              "      <td>2021</td>\n",
              "      <td>799</td>\n",
              "    </tr>\n",
              "    <tr>\n",
              "      <th>4</th>\n",
              "      <td>Bang &amp; Olufsen Beosound Balance</td>\n",
              "      <td>145</td>\n",
              "      <td>135</td>\n",
              "      <td>141</td>\n",
              "      <td>110</td>\n",
              "      <td>Mar</td>\n",
              "      <td>2020</td>\n",
              "      <td>2250</td>\n",
              "    </tr>\n",
              "  </tbody>\n",
              "</table>\n",
              "</div>\n",
              "      <button class=\"colab-df-convert\" onclick=\"convertToInteractive('df-e08756eb-ef86-40e5-8d40-9fc2adb953bd')\"\n",
              "              title=\"Convert this dataframe to an interactive table.\"\n",
              "              style=\"display:none;\">\n",
              "        \n",
              "  <svg xmlns=\"http://www.w3.org/2000/svg\" height=\"24px\"viewBox=\"0 0 24 24\"\n",
              "       width=\"24px\">\n",
              "    <path d=\"M0 0h24v24H0V0z\" fill=\"none\"/>\n",
              "    <path d=\"M18.56 5.44l.94 2.06.94-2.06 2.06-.94-2.06-.94-.94-2.06-.94 2.06-2.06.94zm-11 1L8.5 8.5l.94-2.06 2.06-.94-2.06-.94L8.5 2.5l-.94 2.06-2.06.94zm10 10l.94 2.06.94-2.06 2.06-.94-2.06-.94-.94-2.06-.94 2.06-2.06.94z\"/><path d=\"M17.41 7.96l-1.37-1.37c-.4-.4-.92-.59-1.43-.59-.52 0-1.04.2-1.43.59L10.3 9.45l-7.72 7.72c-.78.78-.78 2.05 0 2.83L4 21.41c.39.39.9.59 1.41.59.51 0 1.02-.2 1.41-.59l7.78-7.78 2.81-2.81c.8-.78.8-2.07 0-2.86zM5.41 20L4 18.59l7.72-7.72 1.47 1.35L5.41 20z\"/>\n",
              "  </svg>\n",
              "      </button>\n",
              "      \n",
              "  <style>\n",
              "    .colab-df-container {\n",
              "      display:flex;\n",
              "      flex-wrap:wrap;\n",
              "      gap: 12px;\n",
              "    }\n",
              "\n",
              "    .colab-df-convert {\n",
              "      background-color: #E8F0FE;\n",
              "      border: none;\n",
              "      border-radius: 50%;\n",
              "      cursor: pointer;\n",
              "      display: none;\n",
              "      fill: #1967D2;\n",
              "      height: 32px;\n",
              "      padding: 0 0 0 0;\n",
              "      width: 32px;\n",
              "    }\n",
              "\n",
              "    .colab-df-convert:hover {\n",
              "      background-color: #E2EBFA;\n",
              "      box-shadow: 0px 1px 2px rgba(60, 64, 67, 0.3), 0px 1px 3px 1px rgba(60, 64, 67, 0.15);\n",
              "      fill: #174EA6;\n",
              "    }\n",
              "\n",
              "    [theme=dark] .colab-df-convert {\n",
              "      background-color: #3B4455;\n",
              "      fill: #D2E3FC;\n",
              "    }\n",
              "\n",
              "    [theme=dark] .colab-df-convert:hover {\n",
              "      background-color: #434B5C;\n",
              "      box-shadow: 0px 1px 3px 1px rgba(0, 0, 0, 0.15);\n",
              "      filter: drop-shadow(0px 1px 2px rgba(0, 0, 0, 0.3));\n",
              "      fill: #FFFFFF;\n",
              "    }\n",
              "  </style>\n",
              "\n",
              "      <script>\n",
              "        const buttonEl =\n",
              "          document.querySelector('#df-e08756eb-ef86-40e5-8d40-9fc2adb953bd button.colab-df-convert');\n",
              "        buttonEl.style.display =\n",
              "          google.colab.kernel.accessAllowed ? 'block' : 'none';\n",
              "\n",
              "        async function convertToInteractive(key) {\n",
              "          const element = document.querySelector('#df-e08756eb-ef86-40e5-8d40-9fc2adb953bd');\n",
              "          const dataTable =\n",
              "            await google.colab.kernel.invokeFunction('convertToInteractive',\n",
              "                                                     [key], {});\n",
              "          if (!dataTable) return;\n",
              "\n",
              "          const docLinkHtml = 'Like what you see? Visit the ' +\n",
              "            '<a target=\"_blank\" href=https://colab.research.google.com/notebooks/data_table.ipynb>data table notebook</a>'\n",
              "            + ' to learn more about interactive tables.';\n",
              "          element.innerHTML = '';\n",
              "          dataTable['output_type'] = 'display_data';\n",
              "          await google.colab.output.renderOutput(dataTable, element);\n",
              "          const docLink = document.createElement('div');\n",
              "          docLink.innerHTML = docLinkHtml;\n",
              "          element.appendChild(docLink);\n",
              "        }\n",
              "      </script>\n",
              "    </div>\n",
              "  </div>\n",
              "  "
            ]
          },
          "metadata": {},
          "execution_count": 65
        }
      ]
    },
    {
      "cell_type": "code",
      "source": [
        "data[\"launch_year\"].value_counts()"
      ],
      "metadata": {
        "colab": {
          "base_uri": "https://localhost:8080/"
        },
        "id": "6p9NKRcaW6ot",
        "outputId": "b2486380-8a4d-4851-df7a-b9619fb7f515"
      },
      "execution_count": 66,
      "outputs": [
        {
          "output_type": "execute_result",
          "data": {
            "text/plain": [
              "launch_year  launch_year\n",
              "2016         2016            1\n",
              "2017         2017            3\n",
              "2018         2018            6\n",
              "2019         2019            7\n",
              "2020         2020           15\n",
              "2021         2021           12\n",
              "2022         2022            1\n",
              "Name: launch_year, dtype: int64"
            ]
          },
          "metadata": {},
          "execution_count": 66
        }
      ]
    },
    {
      "cell_type": "code",
      "source": [
        ""
      ],
      "metadata": {
        "id": "1zRtxXl7vcGN"
      },
      "execution_count": 66,
      "outputs": []
    },
    {
      "cell_type": "code",
      "source": [
        "years = [\"2016\",\"2017\",\"2018\",\"2019\",\"2020\",\"2021\",\"2022\"]\n",
        "no_of_models = [i for i in data[\"launch_year\"].value_counts()]"
      ],
      "metadata": {
        "id": "LzE3iiX9XVF0"
      },
      "execution_count": 67,
      "outputs": []
    },
    {
      "cell_type": "code",
      "source": [
        "plt.figure(figsize=(7,7))\n",
        "sns.barplot(years,no_of_models)"
      ],
      "metadata": {
        "colab": {
          "base_uri": "https://localhost:8080/",
          "height": 505
        },
        "id": "V1I_qRd4XQrO",
        "outputId": "a36a1bab-371b-410d-e592-2e41c6a4b646"
      },
      "execution_count": 68,
      "outputs": [
        {
          "output_type": "stream",
          "name": "stderr",
          "text": [
            "/usr/local/lib/python3.7/dist-packages/seaborn/_decorators.py:43: FutureWarning: Pass the following variables as keyword args: x, y. From version 0.12, the only valid positional argument will be `data`, and passing other arguments without an explicit keyword will result in an error or misinterpretation.\n",
            "  FutureWarning\n"
          ]
        },
        {
          "output_type": "execute_result",
          "data": {
            "text/plain": [
              "<matplotlib.axes._subplots.AxesSubplot at 0x7f9ae3ad2650>"
            ]
          },
          "metadata": {},
          "execution_count": 68
        },
        {
          "output_type": "display_data",
          "data": {
            "text/plain": [
              "<Figure size 504x504 with 1 Axes>"
            ],
            "image/png": "[encoded data removed]"
          },
          "metadata": {}
        }
      ]
    },
    {
      "cell_type": "code",
      "source": [
        "overall=df['overall'].value_counts()"
      ],
      "metadata": {
        "id": "CeFj7CtWSADf"
      },
      "execution_count": 69,
      "outputs": []
    },
    {
      "cell_type": "code",
      "source": [
        "\n",
        "import matplotlib.pyplot as plt\n"
      ],
      "metadata": {
        "id": "q1CMU9ZAXMql"
      },
      "execution_count": 70,
      "outputs": []
    },
    {
      "cell_type": "code",
      "source": [
        "nums = [col for col in df.columns if df[col].dtype != 'object']\n"
      ],
      "metadata": {
        "id": "OUq8ca_zYuuH"
      },
      "execution_count": 71,
      "outputs": []
    },
    {
      "cell_type": "code",
      "source": [
        "nums"
      ],
      "metadata": {
        "colab": {
          "base_uri": "https://localhost:8080/"
        },
        "id": "FiHLn79fZ2E-",
        "outputId": "45e962b4-0dd2-438b-eda3-f42bff858ecc"
      },
      "execution_count": 72,
      "outputs": [
        {
          "output_type": "execute_result",
          "data": {
            "text/plain": [
              "['overall', 'relaxing', 'party', 'movie', 'price in $']"
            ]
          },
          "metadata": {},
          "execution_count": 72
        }
      ]
    },
    {
      "cell_type": "code",
      "source": [
        "len(nums)"
      ],
      "metadata": {
        "colab": {
          "base_uri": "https://localhost:8080/"
        },
        "id": "nj-ZTQSOZ29V",
        "outputId": "fddf862d-0aa3-4f6e-ac05-83f7f92839db"
      },
      "execution_count": 73,
      "outputs": [
        {
          "output_type": "execute_result",
          "data": {
            "text/plain": [
              "5"
            ]
          },
          "metadata": {},
          "execution_count": 73
        }
      ]
    },
    {
      "cell_type": "code",
      "source": [
        "plt.figure(figsize=(10, 5))\n",
        "\n",
        "for i in range(0, len(nums)):\n",
        "  plt.subplot(1, len(nums), i+1)\n",
        "  sns.boxplot(y=df[nums[i]])\n",
        "  plt.tight_layout()"
      ],
      "metadata": {
        "colab": {
          "base_uri": "https://localhost:8080/",
          "height": 365
        },
        "id": "LfEcoyGJXMuW",
        "outputId": "12841cd9-97db-40f4-cc54-7909412a19cd"
      },
      "execution_count": 74,
      "outputs": [
        {
          "output_type": "display_data",
          "data": {
            "text/plain": [
              "<Figure size 720x360 with 5 Axes>"
            ],
            "image/png": "[encoded data removed]"
          },
          "metadata": {}
        }
      ]
    },
    {
      "cell_type": "code",
      "source": [
        "for col in nums:\n",
        "    print(col)\n",
        "    sns.histplot(data=df, x=col, kde=True)\n",
        "    plt.title(col)\n",
        "    plt.tight_layout()\n",
        "    plt.show()"
      ],
      "metadata": {
        "colab": {
          "base_uri": "https://localhost:8080/",
          "height": 1000
        },
        "id": "2RC2XIWMXMy3",
        "outputId": "3dfaeadd-e304-47c2-8476-f9a081983429"
      },
      "execution_count": 75,
      "outputs": [
        {
          "output_type": "stream",
          "name": "stdout",
          "text": [
            "overall\n"
          ]
        },
        {
          "output_type": "display_data",
          "data": {
            "text/plain": [
              "<Figure size 432x288 with 1 Axes>"
            ],
            "image/png": "[encoded data removed]"
          },
          "metadata": {}
        },
        {
          "output_type": "stream",
          "name": "stdout",
          "text": [
            "relaxing\n"
          ]
        },
        {
          "output_type": "display_data",
          "data": {
            "text/plain": [
              "<Figure size 432x288 with 1 Axes>"
            ],
            "image/png": "[encoded data removed]"
          },
          "metadata": {}
        },
        {
          "output_type": "stream",
          "name": "stdout",
          "text": [
            "party\n"
          ]
        },
        {
          "output_type": "display_data",
          "data": {
            "text/plain": [
              "<Figure size 432x288 with 1 Axes>"
            ],
            "image/png": "[encoded data removed]"
          },
          "metadata": {}
        },
        {
          "output_type": "stream",
          "name": "stdout",
          "text": [
            "movie\n"
          ]
        },
        {
          "output_type": "display_data",
          "data": {
            "text/plain": [
              "<Figure size 432x288 with 1 Axes>"
            ],
            "image/png": "[encoded data removed]"
          },
          "metadata": {}
        },
        {
          "output_type": "stream",
          "name": "stdout",
          "text": [
            "price in $\n"
          ]
        },
        {
          "output_type": "display_data",
          "data": {
            "text/plain": [
              "<Figure size 432x288 with 1 Axes>"
            ],
            "image/png": "[encoded data removed]"
          },
          "metadata": {}
        }
      ]
    },
    {
      "cell_type": "code",
      "source": [
        "data.head()"
      ],
      "metadata": {
        "colab": {
          "base_uri": "https://localhost:8080/",
          "height": 833
        },
        "id": "WczofVV-d_Al",
        "outputId": "741c483e-a24a-4c6c-d794-147df13cd86a"
      },
      "execution_count": 76,
      "outputs": [
        {
          "output_type": "execute_result",
          "data": {
            "text/plain": [
              "                                        model  overall  relaxing  party  \\\n",
              "0            Bowers & Wilkins Formation Wedge      160       158    155   \n",
              "1                  Harman Kardon Citation 200      147       136    150   \n",
              "2                                  Sonos Five      147       141    148   \n",
              "3                   Bowers & Wilkins Zeppelin      146       148    137   \n",
              "4             Bang & Olufsen Beosound Balance      145       135    141   \n",
              "5                             Google Home Max      145       137    140   \n",
              "6                     Cabasse The Pearl Akoya      144       145    135   \n",
              "7                        Marshall Stanmore II      144       141    135   \n",
              "8                             Teufel BOOMSTER      139       134    128   \n",
              "9                        Klipsch The Three II      137       140    120   \n",
              "10                  Naim Mu-so 2nd Generation      137       136    139   \n",
              "11                         Audio Pro C10 MKII      136       132    126   \n",
              "12                               JBL Xtreme 3      136       126    125   \n",
              "13                        Yamaha MusicCast 50      136       130    135   \n",
              "14                               LG XBoom RP4      135       120    138   \n",
              "15  Devialet Phantom  II 98 dB Opéra De Paris      133       128    137   \n",
              "16                      Bose Home Speaker 500      130       127    109   \n",
              "17                                  Sonos One      129       132    110   \n",
              "18                             Denon Home 250      128       116    136   \n",
              "23              Bang & Olufsen Beosound Level      124       135     93   \n",
              "24                    Bluesound PULSE MINI 2i      124       124    119   \n",
              "29                              Apple HomePod      113       107    109   \n",
              "36                                 Dali Katch      105       106     95   \n",
              "41                         Apple HomePod mini       98       102     83   \n",
              "43                             TMall Genie X5       92        93     93   \n",
              "\n",
              "    movie launch_month launch_year  price in $  \n",
              "0     134          Jun        2019         899  \n",
              "1     119          Sep        2020         349  \n",
              "2     123          Jun        2021         499  \n",
              "3     117          Oct        2021         799  \n",
              "4     110          Mar        2020        2250  \n",
              "5     126          Oct        2017         399  \n",
              "6     111          Oct        2019        1490  \n",
              "7     118          Mar        2019         349  \n",
              "8     106          Nov        2021         369  \n",
              "9     106          Apr        2019         479  \n",
              "10    114          Jun        2019        1690  \n",
              "11    115          Apr        2021         493  \n",
              "12    112          Nov        2020         300  \n",
              "13    115          Apr        2018         499  \n",
              "14     98          Sep        2021         399  \n",
              "15    103          Jan        2020        1590  \n",
              "16    110          Aug        2018         450  \n",
              "17    116          Oct        2017         199  \n",
              "18    113          Jan        2020         499  \n",
              "23    101          Feb        2022        1549  \n",
              "24     96          Oct        2018         499  \n",
              "29     96          Feb        2018         329  \n",
              "36     68          Aug        2016         499  \n",
              "41     60          Feb        2018         100  \n",
              "43     58          Jul        2017          40  "
            ],
            "text/html": [
              "\n",
              "  <div id=\"df-7c7f1871-9672-4216-ad50-929d083aa2a4\">\n",
              "    <div class=\"colab-df-container\">\n",
              "      <div>\n",
              "<style scoped>\n",
              "    .dataframe tbody tr th:only-of-type {\n",
              "        vertical-align: middle;\n",
              "    }\n",
              "\n",
              "    .dataframe tbody tr th {\n",
              "        vertical-align: top;\n",
              "    }\n",
              "\n",
              "    .dataframe thead th {\n",
              "        text-align: right;\n",
              "    }\n",
              "</style>\n",
              "<table border=\"1\" class=\"dataframe\">\n",
              "  <thead>\n",
              "    <tr style=\"text-align: right;\">\n",
              "      <th></th>\n",
              "      <th>model</th>\n",
              "      <th>overall</th>\n",
              "      <th>relaxing</th>\n",
              "      <th>party</th>\n",
              "      <th>movie</th>\n",
              "      <th>launch_month</th>\n",
              "      <th>launch_year</th>\n",
              "      <th>price in $</th>\n",
              "    </tr>\n",
              "  </thead>\n",
              "  <tbody>\n",
              "    <tr>\n",
              "      <th>0</th>\n",
              "      <td>Bowers &amp; Wilkins Formation Wedge</td>\n",
              "      <td>160</td>\n",
              "      <td>158</td>\n",
              "      <td>155</td>\n",
              "      <td>134</td>\n",
              "      <td>Jun</td>\n",
              "      <td>2019</td>\n",
              "      <td>899</td>\n",
              "    </tr>\n",
              "    <tr>\n",
              "      <th>1</th>\n",
              "      <td>Harman Kardon Citation 200</td>\n",
              "      <td>147</td>\n",
              "      <td>136</td>\n",
              "      <td>150</td>\n",
              "      <td>119</td>\n",
              "      <td>Sep</td>\n",
              "      <td>2020</td>\n",
              "      <td>349</td>\n",
              "    </tr>\n",
              "    <tr>\n",
              "      <th>2</th>\n",
              "      <td>Sonos Five</td>\n",
              "      <td>147</td>\n",
              "      <td>141</td>\n",
              "      <td>148</td>\n",
              "      <td>123</td>\n",
              "      <td>Jun</td>\n",
              "      <td>2021</td>\n",
              "      <td>499</td>\n",
              "    </tr>\n",
              "    <tr>\n",
              "      <th>3</th>\n",
              "      <td>Bowers &amp; Wilkins Zeppelin</td>\n",
              "      <td>146</td>\n",
              "      <td>148</td>\n",
              "      <td>137</td>\n",
              "      <td>117</td>\n",
              "      <td>Oct</td>\n",
              "      <td>2021</td>\n",
              "      <td>799</td>\n",
              "    </tr>\n",
              "    <tr>\n",
              "      <th>4</th>\n",
              "      <td>Bang &amp; Olufsen Beosound Balance</td>\n",
              "      <td>145</td>\n",
              "      <td>135</td>\n",
              "      <td>141</td>\n",
              "      <td>110</td>\n",
              "      <td>Mar</td>\n",
              "      <td>2020</td>\n",
              "      <td>2250</td>\n",
              "    </tr>\n",
              "    <tr>\n",
              "      <th>5</th>\n",
              "      <td>Google Home Max</td>\n",
              "      <td>145</td>\n",
              "      <td>137</td>\n",
              "      <td>140</td>\n",
              "      <td>126</td>\n",
              "      <td>Oct</td>\n",
              "      <td>2017</td>\n",
              "      <td>399</td>\n",
              "    </tr>\n",
              "    <tr>\n",
              "      <th>6</th>\n",
              "      <td>Cabasse The Pearl Akoya</td>\n",
              "      <td>144</td>\n",
              "      <td>145</td>\n",
              "      <td>135</td>\n",
              "      <td>111</td>\n",
              "      <td>Oct</td>\n",
              "      <td>2019</td>\n",
              "      <td>1490</td>\n",
              "    </tr>\n",
              "    <tr>\n",
              "      <th>7</th>\n",
              "      <td>Marshall Stanmore II</td>\n",
              "      <td>144</td>\n",
              "      <td>141</td>\n",
              "      <td>135</td>\n",
              "      <td>118</td>\n",
              "      <td>Mar</td>\n",
              "      <td>2019</td>\n",
              "      <td>349</td>\n",
              "    </tr>\n",
              "    <tr>\n",
              "      <th>8</th>\n",
              "      <td>Teufel BOOMSTER</td>\n",
              "      <td>139</td>\n",
              "      <td>134</td>\n",
              "      <td>128</td>\n",
              "      <td>106</td>\n",
              "      <td>Nov</td>\n",
              "      <td>2021</td>\n",
              "      <td>369</td>\n",
              "    </tr>\n",
              "    <tr>\n",
              "      <th>9</th>\n",
              "      <td>Klipsch The Three II</td>\n",
              "      <td>137</td>\n",
              "      <td>140</td>\n",
              "      <td>120</td>\n",
              "      <td>106</td>\n",
              "      <td>Apr</td>\n",
              "      <td>2019</td>\n",
              "      <td>479</td>\n",
              "    </tr>\n",
              "    <tr>\n",
              "      <th>10</th>\n",
              "      <td>Naim Mu-so 2nd Generation</td>\n",
              "      <td>137</td>\n",
              "      <td>136</td>\n",
              "      <td>139</td>\n",
              "      <td>114</td>\n",
              "      <td>Jun</td>\n",
              "      <td>2019</td>\n",
              "      <td>1690</td>\n",
              "    </tr>\n",
              "    <tr>\n",
              "      <th>11</th>\n",
              "      <td>Audio Pro C10 MKII</td>\n",
              "      <td>136</td>\n",
              "      <td>132</td>\n",
              "      <td>126</td>\n",
              "      <td>115</td>\n",
              "      <td>Apr</td>\n",
              "      <td>2021</td>\n",
              "      <td>493</td>\n",
              "    </tr>\n",
              "    <tr>\n",
              "      <th>12</th>\n",
              "      <td>JBL Xtreme 3</td>\n",
              "      <td>136</td>\n",
              "      <td>126</td>\n",
              "      <td>125</td>\n",
              "      <td>112</td>\n",
              "      <td>Nov</td>\n",
              "      <td>2020</td>\n",
              "      <td>300</td>\n",
              "    </tr>\n",
              "    <tr>\n",
              "      <th>13</th>\n",
              "      <td>Yamaha MusicCast 50</td>\n",
              "      <td>136</td>\n",
              "      <td>130</td>\n",
              "      <td>135</td>\n",
              "      <td>115</td>\n",
              "      <td>Apr</td>\n",
              "      <td>2018</td>\n",
              "      <td>499</td>\n",
              "    </tr>\n",
              "    <tr>\n",
              "      <th>14</th>\n",
              "      <td>LG XBoom RP4</td>\n",
              "      <td>135</td>\n",
              "      <td>120</td>\n",
              "      <td>138</td>\n",
              "      <td>98</td>\n",
              "      <td>Sep</td>\n",
              "      <td>2021</td>\n",
              "      <td>399</td>\n",
              "    </tr>\n",
              "    <tr>\n",
              "      <th>15</th>\n",
              "      <td>Devialet Phantom  II 98 dB Opéra De Paris</td>\n",
              "      <td>133</td>\n",
              "      <td>128</td>\n",
              "      <td>137</td>\n",
              "      <td>103</td>\n",
              "      <td>Jan</td>\n",
              "      <td>2020</td>\n",
              "      <td>1590</td>\n",
              "    </tr>\n",
              "    <tr>\n",
              "      <th>16</th>\n",
              "      <td>Bose Home Speaker 500</td>\n",
              "      <td>130</td>\n",
              "      <td>127</td>\n",
              "      <td>109</td>\n",
              "      <td>110</td>\n",
              "      <td>Aug</td>\n",
              "      <td>2018</td>\n",
              "      <td>450</td>\n",
              "    </tr>\n",
              "    <tr>\n",
              "      <th>17</th>\n",
              "      <td>Sonos One</td>\n",
              "      <td>129</td>\n",
              "      <td>132</td>\n",
              "      <td>110</td>\n",
              "      <td>116</td>\n",
              "      <td>Oct</td>\n",
              "      <td>2017</td>\n",
              "      <td>199</td>\n",
              "    </tr>\n",
              "    <tr>\n",
              "      <th>18</th>\n",
              "      <td>Denon Home 250</td>\n",
              "      <td>128</td>\n",
              "      <td>116</td>\n",
              "      <td>136</td>\n",
              "      <td>113</td>\n",
              "      <td>Jan</td>\n",
              "      <td>2020</td>\n",
              "      <td>499</td>\n",
              "    </tr>\n",
              "    <tr>\n",
              "      <th>23</th>\n",
              "      <td>Bang &amp; Olufsen Beosound Level</td>\n",
              "      <td>124</td>\n",
              "      <td>135</td>\n",
              "      <td>93</td>\n",
              "      <td>101</td>\n",
              "      <td>Feb</td>\n",
              "      <td>2022</td>\n",
              "      <td>1549</td>\n",
              "    </tr>\n",
              "    <tr>\n",
              "      <th>24</th>\n",
              "      <td>Bluesound PULSE MINI 2i</td>\n",
              "      <td>124</td>\n",
              "      <td>124</td>\n",
              "      <td>119</td>\n",
              "      <td>96</td>\n",
              "      <td>Oct</td>\n",
              "      <td>2018</td>\n",
              "      <td>499</td>\n",
              "    </tr>\n",
              "    <tr>\n",
              "      <th>29</th>\n",
              "      <td>Apple HomePod</td>\n",
              "      <td>113</td>\n",
              "      <td>107</td>\n",
              "      <td>109</td>\n",
              "      <td>96</td>\n",
              "      <td>Feb</td>\n",
              "      <td>2018</td>\n",
              "      <td>329</td>\n",
              "    </tr>\n",
              "    <tr>\n",
              "      <th>36</th>\n",
              "      <td>Dali Katch</td>\n",
              "      <td>105</td>\n",
              "      <td>106</td>\n",
              "      <td>95</td>\n",
              "      <td>68</td>\n",
              "      <td>Aug</td>\n",
              "      <td>2016</td>\n",
              "      <td>499</td>\n",
              "    </tr>\n",
              "    <tr>\n",
              "      <th>41</th>\n",
              "      <td>Apple HomePod mini</td>\n",
              "      <td>98</td>\n",
              "      <td>102</td>\n",
              "      <td>83</td>\n",
              "      <td>60</td>\n",
              "      <td>Feb</td>\n",
              "      <td>2018</td>\n",
              "      <td>100</td>\n",
              "    </tr>\n",
              "    <tr>\n",
              "      <th>43</th>\n",
              "      <td>TMall Genie X5</td>\n",
              "      <td>92</td>\n",
              "      <td>93</td>\n",
              "      <td>93</td>\n",
              "      <td>58</td>\n",
              "      <td>Jul</td>\n",
              "      <td>2017</td>\n",
              "      <td>40</td>\n",
              "    </tr>\n",
              "  </tbody>\n",
              "</table>\n",
              "</div>\n",
              "      <button class=\"colab-df-convert\" onclick=\"convertToInteractive('df-7c7f1871-9672-4216-ad50-929d083aa2a4')\"\n",
              "              title=\"Convert this dataframe to an interactive table.\"\n",
              "              style=\"display:none;\">\n",
              "        \n",
              "  <svg xmlns=\"http://www.w3.org/2000/svg\" height=\"24px\"viewBox=\"0 0 24 24\"\n",
              "       width=\"24px\">\n",
              "    <path d=\"M0 0h24v24H0V0z\" fill=\"none\"/>\n",
              "    <path d=\"M18.56 5.44l.94 2.06.94-2.06 2.06-.94-2.06-.94-.94-2.06-.94 2.06-2.06.94zm-11 1L8.5 8.5l.94-2.06 2.06-.94-2.06-.94L8.5 2.5l-.94 2.06-2.06.94zm10 10l.94 2.06.94-2.06 2.06-.94-2.06-.94-.94-2.06-.94 2.06-2.06.94z\"/><path d=\"M17.41 7.96l-1.37-1.37c-.4-.4-.92-.59-1.43-.59-.52 0-1.04.2-1.43.59L10.3 9.45l-7.72 7.72c-.78.78-.78 2.05 0 2.83L4 21.41c.39.39.9.59 1.41.59.51 0 1.02-.2 1.41-.59l7.78-7.78 2.81-2.81c.8-.78.8-2.07 0-2.86zM5.41 20L4 18.59l7.72-7.72 1.47 1.35L5.41 20z\"/>\n",
              "  </svg>\n",
              "      </button>\n",
              "      \n",
              "  <style>\n",
              "    .colab-df-container {\n",
              "      display:flex;\n",
              "      flex-wrap:wrap;\n",
              "      gap: 12px;\n",
              "    }\n",
              "\n",
              "    .colab-df-convert {\n",
              "      background-color: #E8F0FE;\n",
              "      border: none;\n",
              "      border-radius: 50%;\n",
              "      cursor: pointer;\n",
              "      display: none;\n",
              "      fill: #1967D2;\n",
              "      height: 32px;\n",
              "      padding: 0 0 0 0;\n",
              "      width: 32px;\n",
              "    }\n",
              "\n",
              "    .colab-df-convert:hover {\n",
              "      background-color: #E2EBFA;\n",
              "      box-shadow: 0px 1px 2px rgba(60, 64, 67, 0.3), 0px 1px 3px 1px rgba(60, 64, 67, 0.15);\n",
              "      fill: #174EA6;\n",
              "    }\n",
              "\n",
              "    [theme=dark] .colab-df-convert {\n",
              "      background-color: #3B4455;\n",
              "      fill: #D2E3FC;\n",
              "    }\n",
              "\n",
              "    [theme=dark] .colab-df-convert:hover {\n",
              "      background-color: #434B5C;\n",
              "      box-shadow: 0px 1px 3px 1px rgba(0, 0, 0, 0.15);\n",
              "      filter: drop-shadow(0px 1px 2px rgba(0, 0, 0, 0.3));\n",
              "      fill: #FFFFFF;\n",
              "    }\n",
              "  </style>\n",
              "\n",
              "      <script>\n",
              "        const buttonEl =\n",
              "          document.querySelector('#df-7c7f1871-9672-4216-ad50-929d083aa2a4 button.colab-df-convert');\n",
              "        buttonEl.style.display =\n",
              "          google.colab.kernel.accessAllowed ? 'block' : 'none';\n",
              "\n",
              "        async function convertToInteractive(key) {\n",
              "          const element = document.querySelector('#df-7c7f1871-9672-4216-ad50-929d083aa2a4');\n",
              "          const dataTable =\n",
              "            await google.colab.kernel.invokeFunction('convertToInteractive',\n",
              "                                                     [key], {});\n",
              "          if (!dataTable) return;\n",
              "\n",
              "          const docLinkHtml = 'Like what you see? Visit the ' +\n",
              "            '<a target=\"_blank\" href=https://colab.research.google.com/notebooks/data_table.ipynb>data table notebook</a>'\n",
              "            + ' to learn more about interactive tables.';\n",
              "          element.innerHTML = '';\n",
              "          dataTable['output_type'] = 'display_data';\n",
              "          await google.colab.output.renderOutput(dataTable, element);\n",
              "          const docLink = document.createElement('div');\n",
              "          docLink.innerHTML = docLinkHtml;\n",
              "          element.appendChild(docLink);\n",
              "        }\n",
              "      </script>\n",
              "    </div>\n",
              "  </div>\n",
              "  "
            ]
          },
          "metadata": {},
          "execution_count": 76
        }
      ]
    },
    {
      "cell_type": "code",
      "source": [
        "#Priciest wireless speakers model.\n",
        "df.sort_values(by=['price in $'], ascending=False).head(1)"
      ],
      "metadata": {
        "colab": {
          "base_uri": "https://localhost:8080/",
          "height": 81
        },
        "id": "5BS26j2Wwzx9",
        "outputId": "f821556c-2f98-43e4-8f97-b105874ee10b"
      },
      "execution_count": 82,
      "outputs": [
        {
          "output_type": "execute_result",
          "data": {
            "text/plain": [
              "                             model  overall  relaxing  party  movie  \\\n",
              "4  Bang & Olufsen Beosound Balance      145       135    141    110   \n",
              "\n",
              "  launch_month launch_year  price in $  \n",
              "4          Mar        2020        2250  "
            ],
            "text/html": [
              "\n",
              "  <div id=\"df-5216ece4-8036-4a2b-b632-23a03bd643eb\">\n",
              "    <div class=\"colab-df-container\">\n",
              "      <div>\n",
              "<style scoped>\n",
              "    .dataframe tbody tr th:only-of-type {\n",
              "        vertical-align: middle;\n",
              "    }\n",
              "\n",
              "    .dataframe tbody tr th {\n",
              "        vertical-align: top;\n",
              "    }\n",
              "\n",
              "    .dataframe thead th {\n",
              "        text-align: right;\n",
              "    }\n",
              "</style>\n",
              "<table border=\"1\" class=\"dataframe\">\n",
              "  <thead>\n",
              "    <tr style=\"text-align: right;\">\n",
              "      <th></th>\n",
              "      <th>model</th>\n",
              "      <th>overall</th>\n",
              "      <th>relaxing</th>\n",
              "      <th>party</th>\n",
              "      <th>movie</th>\n",
              "      <th>launch_month</th>\n",
              "      <th>launch_year</th>\n",
              "      <th>price in $</th>\n",
              "    </tr>\n",
              "  </thead>\n",
              "  <tbody>\n",
              "    <tr>\n",
              "      <th>4</th>\n",
              "      <td>Bang &amp; Olufsen Beosound Balance</td>\n",
              "      <td>145</td>\n",
              "      <td>135</td>\n",
              "      <td>141</td>\n",
              "      <td>110</td>\n",
              "      <td>Mar</td>\n",
              "      <td>2020</td>\n",
              "      <td>2250</td>\n",
              "    </tr>\n",
              "  </tbody>\n",
              "</table>\n",
              "</div>\n",
              "      <button class=\"colab-df-convert\" onclick=\"convertToInteractive('df-5216ece4-8036-4a2b-b632-23a03bd643eb')\"\n",
              "              title=\"Convert this dataframe to an interactive table.\"\n",
              "              style=\"display:none;\">\n",
              "        \n",
              "  <svg xmlns=\"http://www.w3.org/2000/svg\" height=\"24px\"viewBox=\"0 0 24 24\"\n",
              "       width=\"24px\">\n",
              "    <path d=\"M0 0h24v24H0V0z\" fill=\"none\"/>\n",
              "    <path d=\"M18.56 5.44l.94 2.06.94-2.06 2.06-.94-2.06-.94-.94-2.06-.94 2.06-2.06.94zm-11 1L8.5 8.5l.94-2.06 2.06-.94-2.06-.94L8.5 2.5l-.94 2.06-2.06.94zm10 10l.94 2.06.94-2.06 2.06-.94-2.06-.94-.94-2.06-.94 2.06-2.06.94z\"/><path d=\"M17.41 7.96l-1.37-1.37c-.4-.4-.92-.59-1.43-.59-.52 0-1.04.2-1.43.59L10.3 9.45l-7.72 7.72c-.78.78-.78 2.05 0 2.83L4 21.41c.39.39.9.59 1.41.59.51 0 1.02-.2 1.41-.59l7.78-7.78 2.81-2.81c.8-.78.8-2.07 0-2.86zM5.41 20L4 18.59l7.72-7.72 1.47 1.35L5.41 20z\"/>\n",
              "  </svg>\n",
              "      </button>\n",
              "      \n",
              "  <style>\n",
              "    .colab-df-container {\n",
              "      display:flex;\n",
              "      flex-wrap:wrap;\n",
              "      gap: 12px;\n",
              "    }\n",
              "\n",
              "    .colab-df-convert {\n",
              "      background-color: #E8F0FE;\n",
              "      border: none;\n",
              "      border-radius: 50%;\n",
              "      cursor: pointer;\n",
              "      display: none;\n",
              "      fill: #1967D2;\n",
              "      height: 32px;\n",
              "      padding: 0 0 0 0;\n",
              "      width: 32px;\n",
              "    }\n",
              "\n",
              "    .colab-df-convert:hover {\n",
              "      background-color: #E2EBFA;\n",
              "      box-shadow: 0px 1px 2px rgba(60, 64, 67, 0.3), 0px 1px 3px 1px rgba(60, 64, 67, 0.15);\n",
              "      fill: #174EA6;\n",
              "    }\n",
              "\n",
              "    [theme=dark] .colab-df-convert {\n",
              "      background-color: #3B4455;\n",
              "      fill: #D2E3FC;\n",
              "    }\n",
              "\n",
              "    [theme=dark] .colab-df-convert:hover {\n",
              "      background-color: #434B5C;\n",
              "      box-shadow: 0px 1px 3px 1px rgba(0, 0, 0, 0.15);\n",
              "      filter: drop-shadow(0px 1px 2px rgba(0, 0, 0, 0.3));\n",
              "      fill: #FFFFFF;\n",
              "    }\n",
              "  </style>\n",
              "\n",
              "      <script>\n",
              "        const buttonEl =\n",
              "          document.querySelector('#df-5216ece4-8036-4a2b-b632-23a03bd643eb button.colab-df-convert');\n",
              "        buttonEl.style.display =\n",
              "          google.colab.kernel.accessAllowed ? 'block' : 'none';\n",
              "\n",
              "        async function convertToInteractive(key) {\n",
              "          const element = document.querySelector('#df-5216ece4-8036-4a2b-b632-23a03bd643eb');\n",
              "          const dataTable =\n",
              "            await google.colab.kernel.invokeFunction('convertToInteractive',\n",
              "                                                     [key], {});\n",
              "          if (!dataTable) return;\n",
              "\n",
              "          const docLinkHtml = 'Like what you see? Visit the ' +\n",
              "            '<a target=\"_blank\" href=https://colab.research.google.com/notebooks/data_table.ipynb>data table notebook</a>'\n",
              "            + ' to learn more about interactive tables.';\n",
              "          element.innerHTML = '';\n",
              "          dataTable['output_type'] = 'display_data';\n",
              "          await google.colab.output.renderOutput(dataTable, element);\n",
              "          const docLink = document.createElement('div');\n",
              "          docLink.innerHTML = docLinkHtml;\n",
              "          element.appendChild(docLink);\n",
              "        }\n",
              "      </script>\n",
              "    </div>\n",
              "  </div>\n",
              "  "
            ]
          },
          "metadata": {},
          "execution_count": 82
        }
      ]
    },
    {
      "cell_type": "code",
      "source": [
        "#Cheapiest wireless speakers model\n",
        "df.sort_values(by=['price in $']).head(1)"
      ],
      "metadata": {
        "colab": {
          "base_uri": "https://localhost:8080/",
          "height": 81
        },
        "id": "zDpxMPimw70M",
        "outputId": "af05f56e-00ad-45f0-f93f-50730125c1fc"
      },
      "execution_count": 84,
      "outputs": [
        {
          "output_type": "execute_result",
          "data": {
            "text/plain": [
              "                                          model  overall  relaxing  party  \\\n",
              "44  Baidu Xiaodu Smart Speaker Ultimate Edition       48        64     42   \n",
              "\n",
              "    movie launch_month launch_year  price in $  \n",
              "44     23          May        2020          20  "
            ],
            "text/html": [
              "\n",
              "  <div id=\"df-66f787f1-bd31-4b54-83f8-077dd7552b40\">\n",
              "    <div class=\"colab-df-container\">\n",
              "      <div>\n",
              "<style scoped>\n",
              "    .dataframe tbody tr th:only-of-type {\n",
              "        vertical-align: middle;\n",
              "    }\n",
              "\n",
              "    .dataframe tbody tr th {\n",
              "        vertical-align: top;\n",
              "    }\n",
              "\n",
              "    .dataframe thead th {\n",
              "        text-align: right;\n",
              "    }\n",
              "</style>\n",
              "<table border=\"1\" class=\"dataframe\">\n",
              "  <thead>\n",
              "    <tr style=\"text-align: right;\">\n",
              "      <th></th>\n",
              "      <th>model</th>\n",
              "      <th>overall</th>\n",
              "      <th>relaxing</th>\n",
              "      <th>party</th>\n",
              "      <th>movie</th>\n",
              "      <th>launch_month</th>\n",
              "      <th>launch_year</th>\n",
              "      <th>price in $</th>\n",
              "    </tr>\n",
              "  </thead>\n",
              "  <tbody>\n",
              "    <tr>\n",
              "      <th>44</th>\n",
              "      <td>Baidu Xiaodu Smart Speaker Ultimate Edition</td>\n",
              "      <td>48</td>\n",
              "      <td>64</td>\n",
              "      <td>42</td>\n",
              "      <td>23</td>\n",
              "      <td>May</td>\n",
              "      <td>2020</td>\n",
              "      <td>20</td>\n",
              "    </tr>\n",
              "  </tbody>\n",
              "</table>\n",
              "</div>\n",
              "      <button class=\"colab-df-convert\" onclick=\"convertToInteractive('df-66f787f1-bd31-4b54-83f8-077dd7552b40')\"\n",
              "              title=\"Convert this dataframe to an interactive table.\"\n",
              "              style=\"display:none;\">\n",
              "        \n",
              "  <svg xmlns=\"http://www.w3.org/2000/svg\" height=\"24px\"viewBox=\"0 0 24 24\"\n",
              "       width=\"24px\">\n",
              "    <path d=\"M0 0h24v24H0V0z\" fill=\"none\"/>\n",
              "    <path d=\"M18.56 5.44l.94 2.06.94-2.06 2.06-.94-2.06-.94-.94-2.06-.94 2.06-2.06.94zm-11 1L8.5 8.5l.94-2.06 2.06-.94-2.06-.94L8.5 2.5l-.94 2.06-2.06.94zm10 10l.94 2.06.94-2.06 2.06-.94-2.06-.94-.94-2.06-.94 2.06-2.06.94z\"/><path d=\"M17.41 7.96l-1.37-1.37c-.4-.4-.92-.59-1.43-.59-.52 0-1.04.2-1.43.59L10.3 9.45l-7.72 7.72c-.78.78-.78 2.05 0 2.83L4 21.41c.39.39.9.59 1.41.59.51 0 1.02-.2 1.41-.59l7.78-7.78 2.81-2.81c.8-.78.8-2.07 0-2.86zM5.41 20L4 18.59l7.72-7.72 1.47 1.35L5.41 20z\"/>\n",
              "  </svg>\n",
              "      </button>\n",
              "      \n",
              "  <style>\n",
              "    .colab-df-container {\n",
              "      display:flex;\n",
              "      flex-wrap:wrap;\n",
              "      gap: 12px;\n",
              "    }\n",
              "\n",
              "    .colab-df-convert {\n",
              "      background-color: #E8F0FE;\n",
              "      border: none;\n",
              "      border-radius: 50%;\n",
              "      cursor: pointer;\n",
              "      display: none;\n",
              "      fill: #1967D2;\n",
              "      height: 32px;\n",
              "      padding: 0 0 0 0;\n",
              "      width: 32px;\n",
              "    }\n",
              "\n",
              "    .colab-df-convert:hover {\n",
              "      background-color: #E2EBFA;\n",
              "      box-shadow: 0px 1px 2px rgba(60, 64, 67, 0.3), 0px 1px 3px 1px rgba(60, 64, 67, 0.15);\n",
              "      fill: #174EA6;\n",
              "    }\n",
              "\n",
              "    [theme=dark] .colab-df-convert {\n",
              "      background-color: #3B4455;\n",
              "      fill: #D2E3FC;\n",
              "    }\n",
              "\n",
              "    [theme=dark] .colab-df-convert:hover {\n",
              "      background-color: #434B5C;\n",
              "      box-shadow: 0px 1px 3px 1px rgba(0, 0, 0, 0.15);\n",
              "      filter: drop-shadow(0px 1px 2px rgba(0, 0, 0, 0.3));\n",
              "      fill: #FFFFFF;\n",
              "    }\n",
              "  </style>\n",
              "\n",
              "      <script>\n",
              "        const buttonEl =\n",
              "          document.querySelector('#df-66f787f1-bd31-4b54-83f8-077dd7552b40 button.colab-df-convert');\n",
              "        buttonEl.style.display =\n",
              "          google.colab.kernel.accessAllowed ? 'block' : 'none';\n",
              "\n",
              "        async function convertToInteractive(key) {\n",
              "          const element = document.querySelector('#df-66f787f1-bd31-4b54-83f8-077dd7552b40');\n",
              "          const dataTable =\n",
              "            await google.colab.kernel.invokeFunction('convertToInteractive',\n",
              "                                                     [key], {});\n",
              "          if (!dataTable) return;\n",
              "\n",
              "          const docLinkHtml = 'Like what you see? Visit the ' +\n",
              "            '<a target=\"_blank\" href=https://colab.research.google.com/notebooks/data_table.ipynb>data table notebook</a>'\n",
              "            + ' to learn more about interactive tables.';\n",
              "          element.innerHTML = '';\n",
              "          dataTable['output_type'] = 'display_data';\n",
              "          await google.colab.output.renderOutput(dataTable, element);\n",
              "          const docLink = document.createElement('div');\n",
              "          docLink.innerHTML = docLinkHtml;\n",
              "          element.appendChild(docLink);\n",
              "        }\n",
              "      </script>\n",
              "    </div>\n",
              "  </div>\n",
              "  "
            ]
          },
          "metadata": {},
          "execution_count": 84
        }
      ]
    }
  ]
}